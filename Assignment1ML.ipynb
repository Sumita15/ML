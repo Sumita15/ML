{
  "nbformat": 4,
  "nbformat_minor": 0,
  "metadata": {
    "colab": {
      "provenance": []
    },
    "kernelspec": {
      "name": "python3",
      "display_name": "Python 3"
    },
    "language_info": {
      "name": "python"
    }
  },
  "cells": [
    {
      "cell_type": "markdown",
      "source": [
        "1. Create a data file by using Python random module with different random generator\n",
        "parameters. The data file must have 65000 X 10000 (rows X columns) in the data file. This\n",
        "data file to be used as database for realization of math and matrix operations in cloud\n",
        "computing lab assignments."
      ],
      "metadata": {
        "id": "Ttj7YaZ4u4Cu"
      }
    },
    {
      "cell_type": "code",
      "execution_count": 1,
      "metadata": {
        "id": "b3S7NDUsuzUe"
      },
      "outputs": [],
      "source": [
        "import numpy as np"
      ]
    },
    {
      "cell_type": "code",
      "source": [
        "import random"
      ],
      "metadata": {
        "id": "iXL2AMEcvVBS"
      },
      "execution_count": 2,
      "outputs": []
    },
    {
      "cell_type": "code",
      "source": [
        "rows, columns = 65000, 10000\n",
        "file_name = 'large_data_file.csv'"
      ],
      "metadata": {
        "id": "x81keFIdvwb3"
      },
      "execution_count": 3,
      "outputs": []
    },
    {
      "cell_type": "code",
      "source": [
        "def generate_random_data(rows, cols):\n",
        " data = np.random.rand(rows, cols)\n",
        " return data"
      ],
      "metadata": {
        "id": "fZQ_CN1GDJUW"
      },
      "execution_count": 7,
      "outputs": []
    },
    {
      "cell_type": "code",
      "source": [
        "data = generate_random_data(rows, columns)"
      ],
      "metadata": {
        "id": "GQOEYDNuv7xc"
      },
      "execution_count": 9,
      "outputs": []
    },
    {
      "cell_type": "code",
      "source": [
        "np.savetxt(file_name, data, delimiter=',', fmt='%.6f')"
      ],
      "metadata": {
        "id": "w3lD4CFwDVM7"
      },
      "execution_count": 10,
      "outputs": []
    },
    {
      "cell_type": "code",
      "source": [
        "print(f'Data file \"{file_name}\" created with dimensions {rows} x {columns}.')"
      ],
      "metadata": {
        "colab": {
          "base_uri": "https://localhost:8080/"
        },
        "id": "C33qaQkr_pPd",
        "outputId": "7eaf2083-b99c-4544-f677-e4e07c6d98ff"
      },
      "execution_count": 11,
      "outputs": [
        {
          "output_type": "stream",
          "name": "stdout",
          "text": [
            "Data file \"large_data_file.csv\" created with dimensions 65000 x 10000.\n"
          ]
        }
      ]
    },
    {
      "cell_type": "markdown",
      "source": [
        "2. Write a program in Python to assign subsequent rows to matrix first row elements."
      ],
      "metadata": {
        "id": "0TkiRgyMxQeQ"
      }
    },
    {
      "cell_type": "code",
      "source": [
        "import numpy as np"
      ],
      "metadata": {
        "id": "vtolocZYxWDN"
      },
      "execution_count": 12,
      "outputs": []
    },
    {
      "cell_type": "code",
      "source": [
        "matrix = np.random.randint(1, 10, (5, 5))"
      ],
      "metadata": {
        "id": "N3kbbq_KxdMO"
      },
      "execution_count": 13,
      "outputs": []
    },
    {
      "cell_type": "code",
      "source": [
        "result = {matrix[0, i]: matrix[1:, i] for i in range(matrix.shape[1])}"
      ],
      "metadata": {
        "id": "NbE4md0Axgqx"
      },
      "execution_count": 14,
      "outputs": []
    },
    {
      "cell_type": "code",
      "source": [
        "print(\"Original Matrix:\")\n",
        "print(matrix)\n",
        "print(\"\\nAssigned Subsequent Rows to First Row Elements:\")\n",
        "print(result)"
      ],
      "metadata": {
        "colab": {
          "base_uri": "https://localhost:8080/"
        },
        "id": "OC1ncsECxnCj",
        "outputId": "490b50ee-ed0c-4ac2-c830-a8b1f6511839"
      },
      "execution_count": 15,
      "outputs": [
        {
          "output_type": "stream",
          "name": "stdout",
          "text": [
            "Original Matrix:\n",
            "[[7 7 2 2 5]\n",
            " [6 5 8 8 2]\n",
            " [5 6 6 3 3]\n",
            " [7 4 2 9 2]\n",
            " [4 2 6 2 6]]\n",
            "\n",
            "Assigned Subsequent Rows to First Row Elements:\n",
            "{7: array([5, 6, 4, 2]), 2: array([8, 3, 9, 2]), 5: array([2, 3, 2, 6])}\n"
          ]
        }
      ]
    },
    {
      "cell_type": "markdown",
      "source": [
        "3. Write a program in Python to group similar elements into matrix"
      ],
      "metadata": {
        "id": "gwbUxcvVx2OK"
      }
    },
    {
      "cell_type": "code",
      "source": [
        "from collections import defaultdict\n",
        "import numpy as np"
      ],
      "metadata": {
        "id": "bfZ1sZUNx8Hk"
      },
      "execution_count": 16,
      "outputs": []
    },
    {
      "cell_type": "code",
      "source": [
        "matrix = np.random.randint(1, 5, (5, 5))  # Example matrix"
      ],
      "metadata": {
        "id": "AR4WfpgpyVke"
      },
      "execution_count": 17,
      "outputs": []
    },
    {
      "cell_type": "code",
      "source": [
        "grouped_elements = defaultdict(list)\n",
        "for i in range(matrix.shape[0]):\n",
        "    for j in range(matrix.shape[1]):\n",
        "        grouped_elements[matrix[i, j]].append((i, j))"
      ],
      "metadata": {
        "id": "UekdBuaHyaAC"
      },
      "execution_count": 18,
      "outputs": []
    },
    {
      "cell_type": "code",
      "source": [
        "print(\"Original Matrix:\")\n",
        "print(matrix)"
      ],
      "metadata": {
        "colab": {
          "base_uri": "https://localhost:8080/"
        },
        "id": "ls2cJAqDydVG",
        "outputId": "9ef0e05c-f434-4252-e318-85f7ba125852"
      },
      "execution_count": 19,
      "outputs": [
        {
          "output_type": "stream",
          "name": "stdout",
          "text": [
            "Original Matrix:\n",
            "[[1 4 1 1 3]\n",
            " [3 1 3 3 4]\n",
            " [2 1 3 1 1]\n",
            " [1 2 3 3 4]\n",
            " [2 4 2 3 3]]\n"
          ]
        }
      ]
    },
    {
      "cell_type": "code",
      "source": [
        "print(\"\\nGrouped Elements:\")\n",
        "for key, value in grouped_elements.items():\n",
        "    print(f\"Element {key}: {value}\")"
      ],
      "metadata": {
        "colab": {
          "base_uri": "https://localhost:8080/"
        },
        "id": "AZklFQrH0REV",
        "outputId": "702a48b3-8c2e-49e1-87de-14090d59f288"
      },
      "execution_count": 20,
      "outputs": [
        {
          "output_type": "stream",
          "name": "stdout",
          "text": [
            "\n",
            "Grouped Elements:\n",
            "Element 1: [(0, 0), (0, 2), (0, 3), (1, 1), (2, 1), (2, 3), (2, 4), (3, 0)]\n",
            "Element 4: [(0, 1), (1, 4), (3, 4), (4, 1)]\n",
            "Element 3: [(0, 4), (1, 0), (1, 2), (1, 3), (2, 2), (3, 2), (3, 3), (4, 3), (4, 4)]\n",
            "Element 2: [(2, 0), (3, 1), (4, 0), (4, 2)]\n"
          ]
        }
      ]
    },
    {
      "cell_type": "markdown",
      "source": [
        "4. Write a program in Python to add and subtract matrices in python."
      ],
      "metadata": {
        "id": "Yy2qm9Q8zi2Z"
      }
    },
    {
      "cell_type": "code",
      "source": [
        "import numpy as np"
      ],
      "metadata": {
        "id": "A-C7GWJNznot"
      },
      "execution_count": 21,
      "outputs": []
    },
    {
      "cell_type": "code",
      "source": [
        "matrix1 = np.random.randint(1, 10, (3, 3))  # Example matrix 1\n",
        "matrix2 = np.random.randint(1, 10, (3, 3))  # Example matrix 2"
      ],
      "metadata": {
        "id": "iX-CWCAMztY3"
      },
      "execution_count": 22,
      "outputs": []
    },
    {
      "cell_type": "code",
      "source": [
        "addition = np.add(matrix1, matrix2)"
      ],
      "metadata": {
        "id": "_7CJKHf9zxuc"
      },
      "execution_count": 23,
      "outputs": []
    },
    {
      "cell_type": "code",
      "source": [
        "subtraction = np.subtract(matrix1, matrix2)"
      ],
      "metadata": {
        "id": "fqT_pZuAz0I3"
      },
      "execution_count": 24,
      "outputs": []
    },
    {
      "cell_type": "code",
      "source": [
        "print(\"Matrix 1:\")\n",
        "print(matrix1)"
      ],
      "metadata": {
        "colab": {
          "base_uri": "https://localhost:8080/"
        },
        "id": "D30sN8Lxz3zE",
        "outputId": "147881aa-1797-4d81-cd60-a72444efa3b6"
      },
      "execution_count": 25,
      "outputs": [
        {
          "output_type": "stream",
          "name": "stdout",
          "text": [
            "Matrix 1:\n",
            "[[9 4 7]\n",
            " [5 4 4]\n",
            " [7 6 4]]\n"
          ]
        }
      ]
    },
    {
      "cell_type": "code",
      "source": [
        "print(\"\\nMatrix 2:\")\n",
        "print(matrix2)"
      ],
      "metadata": {
        "colab": {
          "base_uri": "https://localhost:8080/"
        },
        "id": "hyAF89JF0KZF",
        "outputId": "81f888c7-6423-4fd2-999e-98001828fc24"
      },
      "execution_count": 26,
      "outputs": [
        {
          "output_type": "stream",
          "name": "stdout",
          "text": [
            "\n",
            "Matrix 2:\n",
            "[[1 3 1]\n",
            " [1 8 6]\n",
            " [7 5 7]]\n"
          ]
        }
      ]
    },
    {
      "cell_type": "code",
      "source": [
        "print(\"\\nAddition:\")\n",
        "print(addition)"
      ],
      "metadata": {
        "colab": {
          "base_uri": "https://localhost:8080/"
        },
        "id": "q_sxAHHoz-ig",
        "outputId": "91150672-6ed5-4fa3-ca29-475e35771eb1"
      },
      "execution_count": 27,
      "outputs": [
        {
          "output_type": "stream",
          "name": "stdout",
          "text": [
            "\n",
            "Addition:\n",
            "[[10  7  8]\n",
            " [ 6 12 10]\n",
            " [14 11 11]]\n"
          ]
        }
      ]
    },
    {
      "cell_type": "code",
      "source": [
        "print(\"\\nSubtraction:\")\n",
        "print(subtraction)"
      ],
      "metadata": {
        "colab": {
          "base_uri": "https://localhost:8080/"
        },
        "id": "q5p_09V90E_x",
        "outputId": "d9498756-997a-4e55-fc57-c77dc6723d85"
      },
      "execution_count": 28,
      "outputs": [
        {
          "output_type": "stream",
          "name": "stdout",
          "text": [
            "\n",
            "Subtraction:\n",
            "[[ 8  1  6]\n",
            " [ 4 -4 -2]\n",
            " [ 0  1 -3]]\n"
          ]
        }
      ]
    },
    {
      "cell_type": "markdown",
      "source": [
        "5. Write a program in Python to create an n x n square matrix, where all the sub-matrix has the\n",
        "sum of opposite corner elements as even."
      ],
      "metadata": {
        "id": "rWhuoMQm0Tdc"
      }
    },
    {
      "cell_type": "code",
      "source": [
        "import numpy as np"
      ],
      "metadata": {
        "id": "ql2CjqYF0Zbo"
      },
      "execution_count": 29,
      "outputs": []
    },
    {
      "cell_type": "code",
      "source": [
        "def create_special_matrix(n):\n",
        "    matrix = np.zeros((n, n), dtype=int)\n",
        "    for i in range(n):\n",
        "        for j in range(n):\n",
        "            matrix[i, j] = (i + j) % 2\n",
        "    return matrix"
      ],
      "metadata": {
        "id": "SRUZpXoH0cdw"
      },
      "execution_count": 30,
      "outputs": []
    },
    {
      "cell_type": "code",
      "source": [
        "n = 4  # Example size\n",
        "special_matrix = create_special_matrix(n)"
      ],
      "metadata": {
        "id": "zgd29VOK0e07"
      },
      "execution_count": 31,
      "outputs": []
    },
    {
      "cell_type": "code",
      "source": [
        "print(\"Special Matrix:\")\n",
        "print(special_matrix)"
      ],
      "metadata": {
        "colab": {
          "base_uri": "https://localhost:8080/"
        },
        "id": "yoP09vx_0hZI",
        "outputId": "6d2138a2-2c5c-418d-aeb4-7c70d64a5d51"
      },
      "execution_count": 32,
      "outputs": [
        {
          "output_type": "stream",
          "name": "stdout",
          "text": [
            "Special Matrix:\n",
            "[[0 1 0 1]\n",
            " [1 0 1 0]\n",
            " [0 1 0 1]\n",
            " [1 0 1 0]]\n"
          ]
        }
      ]
    },
    {
      "cell_type": "markdown",
      "source": [
        "6. Write a program in Python to perform row-wise element addition in tuple matrix."
      ],
      "metadata": {
        "id": "UdcZ_zdc0zkP"
      }
    },
    {
      "cell_type": "code",
      "source": [
        "tuple_matrix = [((1, 2), (3, 4)), ((5, 6), (7, 8)), ((9, 10), (11, 12))]"
      ],
      "metadata": {
        "id": "WxHsJHvh0jz0"
      },
      "execution_count": 33,
      "outputs": []
    },
    {
      "cell_type": "code",
      "source": [
        "row_wise_addition = [tuple(sum(elements) for elements in row) for row in tuple_matrix]"
      ],
      "metadata": {
        "id": "uRGYXbS10ndV"
      },
      "execution_count": 34,
      "outputs": []
    },
    {
      "cell_type": "code",
      "source": [
        "print(\"Original Tuple Matrix:\")\n",
        "print(tuple_matrix)"
      ],
      "metadata": {
        "colab": {
          "base_uri": "https://localhost:8080/"
        },
        "id": "JgbHdkVL0pox",
        "outputId": "f1e89af6-53cb-4981-d637-8926a06e3c74"
      },
      "execution_count": 35,
      "outputs": [
        {
          "output_type": "stream",
          "name": "stdout",
          "text": [
            "Original Tuple Matrix:\n",
            "[((1, 2), (3, 4)), ((5, 6), (7, 8)), ((9, 10), (11, 12))]\n"
          ]
        }
      ]
    },
    {
      "cell_type": "code",
      "source": [
        "print(\"\\nRow-wise Element Addition:\")\n",
        "print(row_wise_addition)"
      ],
      "metadata": {
        "colab": {
          "base_uri": "https://localhost:8080/"
        },
        "id": "CN8YNMa-0w4C",
        "outputId": "247218b8-5414-42c2-857e-74a249ca6979"
      },
      "execution_count": 36,
      "outputs": [
        {
          "output_type": "stream",
          "name": "stdout",
          "text": [
            "\n",
            "Row-wise Element Addition:\n",
            "[(3, 7), (11, 15), (19, 23)]\n"
          ]
        }
      ]
    }
  ]
}